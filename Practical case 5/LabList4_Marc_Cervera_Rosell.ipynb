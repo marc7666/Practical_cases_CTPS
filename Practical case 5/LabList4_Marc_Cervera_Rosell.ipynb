{
 "cells": [
  {
   "cell_type": "markdown",
   "metadata": {
    "collapsed": false
   },
   "source": [
    "# LabList4\n",
    "### Marc Cervera Rosell"
   ]
  },
  {
   "cell_type": "code",
   "execution_count": 8,
   "metadata": {
    "collapsed": false
   },
   "outputs": [
    {
     "data": {
      "image/png": "[encoded data removed]",
      "text/plain": [
       "Graphics object consisting of 19 graphics primitives"
      ]
     },
     "execution_count": 8,
     "metadata": {
     },
     "output_type": "execute_result"
    }
   ],
   "source": [
    "WDA = DiGraph({1: [2,5], 2: [3,5], 3: [2,4], 4: [1], 5: [1, 3]})\n",
    "WDA.plot()"
   ]
  },
  {
   "cell_type": "markdown",
   "metadata": {
    "collapsed": false
   },
   "source": [
    "This is the digraph we're going to use for this example."
   ]
  },
  {
   "cell_type": "code",
   "execution_count": 9,
   "metadata": {
    "collapsed": false
   },
   "outputs": [
   ],
   "source": [
    "def HLMatrix(DG):\n",
    "    AM = DG.adjacency_matrix().transpose().change_ring(QQ)\n",
    "    for i in [0..AM.ncols()-1]:\n",
    "        scale_factor = sum(AM.columns()[i])\n",
    "        if scale_factor != 0: AM.rescale_col(i, 1/scale_factor)\n",
    "    return AM"
   ]
  },
  {
   "cell_type": "code",
   "execution_count": 10,
   "metadata": {
    "collapsed": false
   },
   "outputs": [
    {
     "data": {
      "text/html": [
       "Normalized link matrix: "
      ],
      "text/plain": [
       "Normalized link matrix: "
      ]
     },
     "execution_count": 10,
     "metadata": {
     },
     "output_type": "execute_result"
    },
    {
     "data": {
      "text/html": [
       "<html>\\[\\newcommand{\\Bold}[1]{\\mathbf{#1}}\\left(\\begin{array}{rrrrr}\n",
       "0 & 0 & 0 & 1 & \\frac{1}{2} \\\\\n",
       "\\frac{1}{2} & 0 & \\frac{1}{2} & 0 & 0 \\\\\n",
       "0 & \\frac{1}{2} & 0 & 0 & \\frac{1}{2} \\\\\n",
       "0 & 0 & \\frac{1}{2} & 0 & 0 \\\\\n",
       "\\frac{1}{2} & \\frac{1}{2} & 0 & 0 & 0\n",
       "\\end{array}\\right)\\]</html>"
      ],
      "text/latex": [
       "$$\\newcommand{\\Bold}[1]{\\mathbf{#1}}\\left(\\begin{array}{rrrrr}\n",
       "0 & 0 & 0 & 1 & \\frac{1}{2} \\\\\n",
       "\\frac{1}{2} & 0 & \\frac{1}{2} & 0 & 0 \\\\\n",
       "0 & \\frac{1}{2} & 0 & 0 & \\frac{1}{2} \\\\\n",
       "0 & 0 & \\frac{1}{2} & 0 & 0 \\\\\n",
       "\\frac{1}{2} & \\frac{1}{2} & 0 & 0 & 0\n",
       "\\end{array}\\right)$$"
      ],
      "text/plain": [
       "[  0   0   0   1 1/2]\n",
       "[1/2   0 1/2   0   0]\n",
       "[  0 1/2   0   0 1/2]\n",
       "[  0   0 1/2   0   0]\n",
       "[1/2 1/2   0   0   0]"
      ]
     },
     "execution_count": 10,
     "metadata": {
     },
     "output_type": "execute_result"
    }
   ],
   "source": [
    "H = HLMatrix(WDA)\n",
    "show(html('Normalized link matrix: '))\n",
    "show(H)"
   ]
  },
  {
   "cell_type": "markdown",
   "metadata": {
    "collapsed": false
   },
   "source": [
    "The objective, is to find the PageRank vector. That vector represents the importance of a website related to the other ones."
   ]
  },
  {
   "cell_type": "code",
   "execution_count": 19,
   "metadata": {
    "collapsed": false
   },
   "outputs": [
   ],
   "source": [
   ]
  },
  {
   "cell_type": "code",
   "execution_count": 19,
   "metadata": {
    "collapsed": false
   },
   "outputs": [
   ],
   "source": [
    "def power_method(P, max_error=0.00001):\n",
    "    v_inic = vector([1 / P.nrows()] * P.nrows()) #Column vector\n",
    "    iterations = 0\n",
    "    while True:\n",
    "        iterations += 1\n",
    "        new_v = P*v_inic\n",
    "        if iterations % 5 == 0:\n",
    "            show(html(f'Iteration: {iterations}, vector: {[\"{:.4f}\".format(float(e) ) for e in new_v]}'))\n",
    "        for i, elem in enumerate(new_v):\n",
    "            if elem - v_inic[i] > max_error:\n",
    "                break\n",
    "        else:\n",
    "            return new_v, iterations\n",
    "        v_inic = new_v"
   ]
  },
  {
   "cell_type": "markdown",
   "metadata": {
    "collapsed": false
   },
   "source": [
    "## Main part"
   ]
  },
  {
   "cell_type": "code",
   "execution_count": 20,
   "metadata": {
    "collapsed": false
   },
   "outputs": [
    {
     "data": {
      "text/html": [
       "Iteration: 5, vector: ['0.2313', '0.2125', '0.2250', '0.1062', '0.2250']"
      ],
      "text/plain": [
       "Iteration: 5, vector: ['0.2313', '0.2125', '0.2250', '0.1062', '0.2250']"
      ]
     },
     "execution_count": 20,
     "metadata": {
     },
     "output_type": "execute_result"
    },
    {
     "data": {
      "text/html": [
       "Iteration: 10, vector: ['0.2219', '0.2229', '0.2219', '0.1113', '0.2221']"
      ],
      "text/plain": [
       "Iteration: 10, vector: ['0.2219', '0.2229', '0.2219', '0.1113', '0.2221']"
      ]
     },
     "execution_count": 20,
     "metadata": {
     },
     "output_type": "execute_result"
    },
    {
     "data": {
      "text/html": [
       "Iteration: 15, vector: ['0.2222', '0.2222', '0.2222', '0.1111', '0.2222']"
      ],
      "text/plain": [
       "Iteration: 15, vector: ['0.2222', '0.2222', '0.2222', '0.1111', '0.2222']"
      ]
     },
     "execution_count": 20,
     "metadata": {
     },
     "output_type": "execute_result"
    },
    {
     "data": {
      "text/html": [
       "Perron vector: (116509/524288, 72817/327680, 291273/1310720, 72817/655360, 116509/524288)"
      ],
      "text/plain": [
       "Perron vector: (116509/524288, 72817/327680, 291273/1310720, 72817/655360, 116509/524288)"
      ]
     },
     "execution_count": 20,
     "metadata": {
     },
     "output_type": "execute_result"
    }
   ],
   "source": [
    "v, i = power_method(H)\n",
    "show(html(f'Perron vector: {v}'))"
   ]
  },
  {
   "cell_type": "markdown",
   "metadata": {
    "collapsed": false
   },
   "source": [
    "v = Perron vector --> Final solution\n",
    "\n",
    "i = number of iterations needed to find the Perron vector\n",
    "\n",
    "The algorithm needs 15 iterations to fins the Perron vector. "
   ]
  }
 ],
 "metadata": {
  "kernelspec": {
   "display_name": "SageMath 9.4",
   "language": "sagemath",
   "metadata": {
    "cocalc": {
     "description": "Open-source mathematical software system",
     "priority": 10,
     "url": "https://www.sagemath.org/"
    }
   },
   "name": "sage-9.4",
   "resource_dir": "/ext/jupyter/kernels/sage-9.4"
  },
  "language_info": {
   "codemirror_mode": {
    "name": "ipython",
    "version": 3
   },
   "file_extension": ".py",
   "mimetype": "text/x-python",
   "name": "python",
   "nbconvert_exporter": "python",
   "pygments_lexer": "ipython3",
   "version": "3.9.5"
  }
 },
 "nbformat": 4,
 "nbformat_minor": 4
}